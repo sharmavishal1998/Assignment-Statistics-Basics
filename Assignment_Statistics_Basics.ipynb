{
  "nbformat": 4,
  "nbformat_minor": 0,
  "metadata": {
    "colab": {
      "provenance": []
    },
    "kernelspec": {
      "name": "python3",
      "display_name": "Python 3"
    },
    "language_info": {
      "name": "python"
    }
  },
  "cells": [
    {
      "cell_type": "code",
      "execution_count": null,
      "metadata": {
        "id": "tXeBlHiMy9z4"
      },
      "outputs": [],
      "source": [
        "#Question1- Explain the different types of data (qualitative and quantitative) and provide examples of each. Discuss nominal, ordinal, interval, and ratio scales.\n",
        "#Answer-Data can be broadly categorized into two main types: qualitative and quantitative data. Each of these types can be further broken down based on the level of measurement, which includes nominal, ordinal, interval, and ratio scales.\n",
        "#Qualitative data- Qualitative data (also known as categorical data) represents non-numerical information and describes qualities or characteristics. It is often descriptive and can be divided into categories.\n",
        "#Types of qualitative data-Nominal Scale: Data on a nominal scale is used to label categories without any inherent order. Each category is unique, but there is no ranking among them.\n",
        "#Example: Types of cars (SUV, sedan, truck). Here, each category represents a different type, but there’s no order or ranking.\n",
        "#Ordinal Scale: Data on an ordinal scale has an order or ranking, but the intervals between the values are not consistent or meaningful.\n",
        "#Example: Levels of satisfaction (e.g., satisfied, neutral, dissatisfied). Here, there’s a logical order, but the difference between “satisfied” and “neutral” is not precisely measurable.\n",
        "\n",
        "#Quantitative Data-\n",
        "#Quantitative data represents numerical values and can be measured. It provides information about quantities and can be used in mathematical calculations.\n",
        "#Types of Quantitative Data:\n",
        "#Interval Scale: Interval data is numeric data with meaningful intervals between values, but it lacks a true zero point. This means that ratios are not meaningful\n",
        "#Ratio Scale: Ratio data has all the properties of interval data, but with a meaningful zero point, allowing for ratios to be calculated.\n"
      ]
    },
    {
      "cell_type": "code",
      "source": [
        "#Question2-What are the measures of central tendency, and when should you use each? Discuss the mean, median and mode with examples and situations where each is appropriate.\n",
        "#Answer-Measures of central tendency are ways to find the \"center\" or most typical value in a set of data. The three main measures are mean, median, and mode. Here’s a breakdown of each and when it’s best to use them:\n",
        "#Mean;\n",
        "#The mean is the average of all values in a dataset. You calculate it by adding up all the numbers and dividing by how many numbers there are.\n",
        "#Formula: Mean = (Sum of all values) / (Number of values)\n",
        "#When to Use the Mean: Use the mean when data has no extreme values (or outliers) because it takes all values into account. It works well for data that is symmetrically distributed (meaning it doesn’t have extreme highs or lows that could skew the average).\n",
        "#Example Scenario: If you want to find the average score of a class on a test where most scores are close together, the mean would be a good measure\n",
        "\n",
        "#Median (Middle Value)\n",
        "#The median is the middle value in an ordered list. To find it, you sort the numbers from lowest to highest and select the middle one. If there’s an even number of values, you take the average of the two middle values.\n",
        "#Example: For the numbers 3, 1, 7, 8, and 10, when sorted (1, 3, 7, 8, 10), the median is 7.\n",
        "#When to Use the Median: Use the median when data has outliers or extreme values. The median isn’t affected by unusually high or low values, so it provides a more typical middle for skewed data.\n",
        "#Example Scenario: For household income in a neighborhood where a few residents earn much more than others, the median income gives a better idea of the \"typical\" income because it’s less affected by the high earners.\n",
        "\n",
        "#Mode (Most Frequent Value)\n",
        "#The mode is the value that appears most frequently in a dataset. There can be more than one mode if multiple values have the same highest frequency.\n",
        "#Example: For the numbers 1, 2, 2, 3, and 4, the mode is 2 because it appears most often.\n",
        "#When to Use the Mode: Use the mode when data has repeated values or when you want to identify the most common item. It’s especially useful for categorical data (data in categories, like colors or types).\n",
        "#Example Scenario: In a survey of favorite ice cream flavors, the mode would show the most popular flavor, as it highlights the most frequently chosen option.\n",
        "\n"
      ],
      "metadata": {
        "id": "3lxnrNx20KDi"
      },
      "execution_count": 1,
      "outputs": []
    },
    {
      "cell_type": "code",
      "source": [
        "#Question3- Explain the concept of dispersion. How do variance and standard deviation measure the spread of data?\n",
        "#Answer- Dispersion is a way of describing how spread out or close together the values in a dataset are. If the values are tightly grouped around the center, the dispersion is low. If the values are scattered far from the center, the dispersion is high.\n",
        "#Two common ways to measure this spread are variance and standard deviation. Both help us see how much the values differ from the average (mean), but they do it in slightly different ways:\n",
        "#1. Variance\n",
        "#Variance measures the average of how far each value is from the mean, but it squares these differences to make sure they're all positive and to emphasize larger gaps.\n",
        "# Think of it as a way to show the “average distance squared” from the mean.\n",
        "# Simple Example: Imagine you have test scores, and most of them are around the class average of 75, with just a few scores far off. The variance would take each score’s distance from 75, square it, and then find the average of these squared distances. A higher variance means scores are more spread out.\n",
        "# 2. Standard Deviation\n",
        "# Standard deviation is simply the square root of the variance, which brings the measurement back to the original units (like points, dollars, or centimeters).\n",
        "# This makes it easier to interpret because it tells you, on average, how far each value is from the mean.\n",
        "# Simple Example: If the test scores have a standard deviation of 5, that means most scores are within 5 points of the average score of 75. A standard deviation of 20, however, would mean scores are much more spread out.\n",
        "# Why They Matter\n",
        "# Both variance and standard deviation give us a sense of how much the data varies.\n",
        "# Variance is useful for certain calculations in statistics, but standard deviation is often easier to understand directly since it’s in the same units as the data.\n"
      ],
      "metadata": {
        "id": "63Jlfxl10b0w"
      },
      "execution_count": null,
      "outputs": []
    },
    {
      "cell_type": "code",
      "source": [
        "#Question4- What is a box plot, and what can it tell you about the distribution of data?\n",
        "#A box plot is a simple graph that shows where most of the data is, how spread out it is, and if there are any unusual values (outliers). It’s great for understanding how data is distributed at a glance.\n",
        "# Parts of a Box Plot:\n",
        "# The Box:\n",
        "# The main rectangle shows the middle 50% of the data.\n",
        "# It starts at the 25th percentile (where 25% of data is below) and ends at the 75th percentile (where 75% of data is below).\n",
        "# Inside the box, there's a line marking the median (middle value) of the data.\n",
        "# Whiskers:\n",
        "# Lines (or “whiskers”) go from each end of the box to show the range of the rest of the data, up to a certain point.\n",
        "# The whiskers usually extend to the smallest and largest values within 1.5 times the box’s length.\n",
        "# Outliers:\n",
        "# Any data points outside the whiskers are shown as dots or small marks and are called outliers (values that are much higher or lower than the rest).\n",
        "# What It Tells You:\n",
        "# Center: The median line in the box shows the middle value of the data.\n",
        "# Spread: The length of the box shows how spread out the middle half of the data is. A longer box means more variation; a shorter box means less.\n",
        "# Symmetry and Skewness:\n",
        "# If the median line is in the center of the box, the data is balanced.\n",
        "# If the median is closer to one end, it suggests the data is skewed (leaning more to one side).\n",
        "# Outliers: Any dots outside the whiskers represent values that are very different from the rest, either much higher or much lower.\n",
        "# Simple Example:\n",
        "# Imagine a box plot of student test scores:\n",
        "# If the box is evenly centered, scores are fairly balanced around the middle.\n",
        "# If there are dots above or below the box, it means some students scored much higher or lower than the rest.\n",
        "# In short, a box plot gives a quick summary of the data, showing where most of it falls, how spread out it is, and if there are any extreme values."
      ],
      "metadata": {
        "id": "SuDITMMS13z-"
      },
      "execution_count": null,
      "outputs": []
    },
    {
      "cell_type": "code",
      "source": [
        "#Question5- Discuss the role of random sampling in making inferences about populations.\n",
        "#Answer-Random sampling is a method where we select individuals or items from a larger group (population) at random, giving each one an equal chance to be chosen. This small group (sample) helps us make inferences or educated guesses about the whole population.\n",
        "# Why Random Sampling Matters:\n",
        "# Represents the Population: Random samples are likely to reflect the overall population accurately, so results from the sample can be applied to the population.\n",
        "# Reduces Bias: Choosing randomly means personal opinions or patterns don’t affect who gets picked, giving a fair picture of the population.\n",
        "# Enables Generalizations: With a good random sample, researchers can estimate things like average behavior or preferences in the population based on the sample’s results.\n",
        "# In short, random sampling allows us to study a smaller group and make reliable guesses about a much larger group without having to check every single member."
      ],
      "metadata": {
        "id": "glzOX4a12RVI"
      },
      "execution_count": null,
      "outputs": []
    },
    {
      "cell_type": "code",
      "source": [
        "#Question6-Explain the concept of skewness and its types. How does skewness affect the interpretation of data?\n",
        "#Answer-Skewness describes the asymmetry of a data distribution. If a dataset isn’t balanced around its center (mean), it is skewed. Skewness tells us whether the data leans to the left or right.\n",
        "\n",
        "# Types of Skewness:\n",
        "# Positive Skew (Right Skew): The tail on the right side is longer. Most data values are on the left, with a few high values stretching the right tail.\n",
        "\n",
        "# Effect: Mean > Median > Mode\n",
        "# Negative Skew (Left Skew): The tail on the left side is longer. Most data values are on the right, with a few low values stretching the left tail.\n",
        "\n",
        "# Effect: Mean < Median < Mode\n",
        "# No Skew (Symmetrical): Both sides of the distribution are balanced, with mean, median, and mode close to each other in the center.\n",
        "\n",
        "# How Skewness Affects Interpretation:\n",
        "# Right skew can pull the mean higher than most data points, making the average seem larger than typical values.\n",
        "# Left skew can pull the mean lower, making it appear smaller than typical values.\n",
        "# Symmetrical data gives a clearer central value, with mean, median, and mode close together."
      ],
      "metadata": {
        "id": "CQT_bzq_2qpB"
      },
      "execution_count": null,
      "outputs": []
    },
    {
      "cell_type": "code",
      "source": [
        "#Question7-What is the interquartile range (IQR), and how is it used to detect outliers?\n",
        "#Answer-he interquartile range (IQR) is a measure of how spread out the middle 50% of a dataset is. It is calculated as:\n",
        "\n",
        "# IQR=Q3-Q1\n",
        "# where:\n",
        "# Q1 is the first quartile (25th percentile).\n",
        "# Q3 is the third quartile (75th percentile).\n",
        "# Detecting Outliers with IQR:\n",
        "# To identify outliers using the IQR:\n",
        "\n",
        "# Calculate the Lower Bound:\n",
        "# Q1−1.5×IQR\n",
        "# Calculate the Upper Bound:\n",
        "# Q3+1.5×IQR\n",
        "# Any data points outside these bounds are considered outliers."
      ],
      "metadata": {
        "id": "eg8CSDP7282l"
      },
      "execution_count": null,
      "outputs": []
    },
    {
      "cell_type": "code",
      "source": [
        "#Question08-Discuss the conditions under which the binomial distribution is used.\n",
        "#Answer-\n",
        "#The binomial distribution is used under specific conditions when modeling the number of successes in a fixed number of independent trials. Here are the key conditions:\n",
        "# Fixed Number of Trials (n): The experiment must have a predetermined number of trials. For example, flipping a coin 10 times.\n",
        "# Two Possible Outcomes: Each trial results in one of two outcomes: \"success\" or \"failure.\" For instance, getting heads (success) or tails (failure) when flipping a coin.\n",
        "# Independent Trials: The outcome of one trial must not affect the outcome of another. Each flip of a coin is independent of the others.\n",
        "# Constant Probability (p): The probability of success (p) must remain the same for each trial. For example, if the probability of getting heads is 0.5, it should be 0.5 for all flips."
      ],
      "metadata": {
        "id": "94zNMCjE3ugq"
      },
      "execution_count": null,
      "outputs": []
    },
    {
      "cell_type": "code",
      "source": [
        "#Question09- Explain the properties of the normal distribution and the empirical rule (68-95-99.7 rule).\n",
        "#Answer-The normal distribution is a symmetrical, bell-shaped curve defined by its mean (μ) and standard deviation (σ). Here are its key properties:\n",
        "# Properties of Normal Distribution:\n",
        "# Symmetrical: The left and right sides are mirror images.\n",
        "# Equal Mean, Median, Mode: All three are at the center.\n",
        "# Bell-Shaped: Most values cluster around the mean.\n",
        "# Asymptotic: Tails approach but never touch the horizontal axis.\n",
        "# Defined by μ and σ: The mean determines the center, and the standard deviation determines the width.\n",
        "# Empirical Rule (68-95-99.7 Rule):\n",
        "# This rule describes how data is distributed in a normal distribution:\n",
        "\n",
        "# 68% of data falls within 1 standard deviation of the mean.\n",
        "# 95% of data falls within 2 standard deviations of the mean.\n",
        "# 99.7% of data falls within 3 standard deviations of the mean."
      ],
      "metadata": {
        "id": "Px9IFaVw3_fk"
      },
      "execution_count": null,
      "outputs": []
    },
    {
      "cell_type": "code",
      "source": [
        "#Question10- Provide a real-life example of a Poisson process and calculate the probability for a specific event.\n",
        "#Real-Life Example of a Poisson Process:\n",
        "# A common real-life example of a Poisson process is the number of customer arrivals at a coffee shop in a given hour. Suppose a coffee shop receives an average of 4 customers per hour. This situation fits the Poisson process because:\n",
        "\n",
        "# Events (customer arrivals) occur independently.\n",
        "# The average rate (4 customers) is constant over time.\n",
        "# Calculating the Probability:\n",
        "# To calculate the probability of a specific event using the Poisson distribution, we can use the formula:\n",
        "# P(X=k)=\n",
        "# k!\n",
        "# e\n",
        "# −λ\n",
        "#  ⋅λ\n",
        "# k\n",
        "\n",
        "# ​\n",
        "\n",
        "# where:\n",
        "\n",
        "# P(X=k) is the probability of observing\n",
        "# k events in a fixed interval.\n",
        "# λ (lambda) is the average number of events in that interval (4 customers).\n",
        "# k is the number of events we want the probability for.\n",
        "# e is approximately 2.71828."
      ],
      "metadata": {
        "id": "YWntogXM4P6P"
      },
      "execution_count": null,
      "outputs": []
    },
    {
      "cell_type": "code",
      "source": [
        "#Question11-Explain what a random variable is and differentiate between discrete and continuous random variables.\n",
        "#Answer-A random variable is a numerical outcome of a random phenomenon. It is a variable whose value is subject to chance and can vary based on the outcome of a random process.\n",
        "\n",
        "# Types of Random Variables:\n",
        "# Discrete Random Variable:\n",
        "\n",
        "# A discrete random variable can take on a finite or countably infinite number of values.\n",
        "# These values are often whole numbers or specific categories.\n",
        "# Examples:\n",
        "# The number of students in a classroom (0, 1, 2, …).\n",
        "# The number of heads when flipping a coin three times (0, 1, 2, or 3).\n",
        "# The result of rolling a die (1, 2, 3, 4, 5, or 6).\n",
        "# Continuous Random Variable:\n",
        "\n",
        "# A continuous random variable can take on an infinite number of possible values within a given range.\n",
        "# These values are often measurements and can include fractions or decimals.\n",
        "# Examples:\n",
        "# The height of students in a school (could be any value, e.g., 150.5 cm).\n",
        "# The time it takes to run a marathon (could be any positive value, e.g., 3.5 hours).\n",
        "# The temperature on a given day (could be any value within a range, e.g., 22.7°C).\n",
        "# Key Differences:\n",
        "# Nature of Values:\n",
        "\n",
        "# Discrete: Countable (e.g., integers).\n",
        "# Continuous: Uncountable (e.g., real numbers within a range).\n",
        "# Representation:\n",
        "\n",
        "# Discrete: Often represented with a probability mass function (PMF).\n",
        "# Continuous: Represented with a probability density function (PDF)."
      ],
      "metadata": {
        "id": "a8ogoVJR4_Gm"
      },
      "execution_count": null,
      "outputs": []
    },
    {
      "cell_type": "code",
      "source": [
        "#Question12-Provide an example dataset, calculate both covariance and correlation, and interpret the results.\n",
        "#Answer-Here’s a small dataset of X (hours studied) and Y (exam scores):\n",
        "\n",
        "# Student\tX (Hours Studied)\tY (Exam Score)\n",
        "# 1\t2\t65\n",
        "# 2\t3\t70\n",
        "# 3\t5\t80\n",
        "# 4\t6\t85\n",
        "# 5\t8\t95\n",
        "# Calculations\n",
        "# Covariance:\n",
        "\n",
        "# Covariance measures how two variables change together.\n",
        "# Calculated Covariance\n",
        "# Cov(X,Y)≈22.8.\n",
        "# Correlation:\n",
        "\n",
        "# Correlation measures the strength and direction of a linear relationship between two variables.\n",
        "# Calculated Correlation\n",
        "# r≈0.999.\n",
        "# Interpretation:\n",
        "# Covariance (22.8): Indicates a positive relationship; as hours studied increase, exam scores tend to increase.\n",
        "# Correlation (0.999): A very strong positive correlation suggests that more study hours lead to higher exam scores.\n",
        "# In summary, both measures indicate a strong positive relationship between hours studied and exam scores."
      ],
      "metadata": {
        "id": "oAEc4zQ65L-B"
      },
      "execution_count": null,
      "outputs": []
    }
  ]
}